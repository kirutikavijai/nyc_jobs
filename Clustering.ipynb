{
 "cells": [
  {
   "cell_type": "code",
   "execution_count": 40,
   "metadata": {},
   "outputs": [],
   "source": [
    "#importing required libraries\n",
    "\n",
    "from sklearn.cluster import KMeans\n",
    "import pandas as pd\n",
    "from sklearn.preprocessing import MinMaxScaler\n",
    "from matplotlib import pyplot as plt\n",
    "%matplotlib inline"
   ]
  },
  {
   "cell_type": "code",
   "execution_count": 41,
   "metadata": {},
   "outputs": [
    {
     "data": {
      "text/html": [
       "<div>\n",
       "<style scoped>\n",
       "    .dataframe tbody tr th:only-of-type {\n",
       "        vertical-align: middle;\n",
       "    }\n",
       "\n",
       "    .dataframe tbody tr th {\n",
       "        vertical-align: top;\n",
       "    }\n",
       "\n",
       "    .dataframe thead th {\n",
       "        text-align: right;\n",
       "    }\n",
       "</style>\n",
       "<table border=\"1\" class=\"dataframe\">\n",
       "  <thead>\n",
       "    <tr style=\"text-align: right;\">\n",
       "      <th></th>\n",
       "      <th>Job ID</th>\n",
       "      <th>Agency</th>\n",
       "      <th>Posting Type</th>\n",
       "      <th># Of Positions</th>\n",
       "      <th>Business Title</th>\n",
       "      <th>Civil Service Title</th>\n",
       "      <th>Title Code No</th>\n",
       "      <th>Level</th>\n",
       "      <th>Job Category</th>\n",
       "      <th>Full-Time/Part-Time indicator</th>\n",
       "      <th>...</th>\n",
       "      <th>Additional Information</th>\n",
       "      <th>To Apply</th>\n",
       "      <th>Hours/Shift</th>\n",
       "      <th>Work Location 1</th>\n",
       "      <th>Recruitment Contact</th>\n",
       "      <th>Residency Requirement</th>\n",
       "      <th>Posting Date</th>\n",
       "      <th>Post Until</th>\n",
       "      <th>Posting Updated</th>\n",
       "      <th>Process Date</th>\n",
       "    </tr>\n",
       "  </thead>\n",
       "  <tbody>\n",
       "    <tr>\n",
       "      <th>0</th>\n",
       "      <td>87990</td>\n",
       "      <td>DEPARTMENT OF BUSINESS SERV.</td>\n",
       "      <td>Internal</td>\n",
       "      <td>1</td>\n",
       "      <td>Account Manager</td>\n",
       "      <td>CONTRACT REVIEWER (OFFICE OF L</td>\n",
       "      <td>40563</td>\n",
       "      <td>1</td>\n",
       "      <td>NaN</td>\n",
       "      <td>NaN</td>\n",
       "      <td>...</td>\n",
       "      <td>Salary range for this position is: $42,405 - $...</td>\n",
       "      <td>NaN</td>\n",
       "      <td>NaN</td>\n",
       "      <td>NaN</td>\n",
       "      <td>NaN</td>\n",
       "      <td>New York City residency is generally required ...</td>\n",
       "      <td>2011-06-24T00:00:00.000</td>\n",
       "      <td>NaN</td>\n",
       "      <td>2011-06-24T00:00:00.000</td>\n",
       "      <td>2019-07-23T00:00:00.000</td>\n",
       "    </tr>\n",
       "    <tr>\n",
       "      <th>1</th>\n",
       "      <td>97899</td>\n",
       "      <td>DEPARTMENT OF BUSINESS SERV.</td>\n",
       "      <td>Internal</td>\n",
       "      <td>1</td>\n",
       "      <td>EXECUTIVE DIRECTOR, BUSINESS DEVELOPMENT</td>\n",
       "      <td>ADMINISTRATIVE BUSINESS PROMOT</td>\n",
       "      <td>10009</td>\n",
       "      <td>M3</td>\n",
       "      <td>NaN</td>\n",
       "      <td>F</td>\n",
       "      <td>...</td>\n",
       "      <td>NaN</td>\n",
       "      <td>In addition to applying through this website, ...</td>\n",
       "      <td>NaN</td>\n",
       "      <td>NaN</td>\n",
       "      <td>NaN</td>\n",
       "      <td>New York City residency is generally required ...</td>\n",
       "      <td>2012-01-26T00:00:00.000</td>\n",
       "      <td>NaN</td>\n",
       "      <td>2012-01-26T00:00:00.000</td>\n",
       "      <td>2019-07-23T00:00:00.000</td>\n",
       "    </tr>\n",
       "    <tr>\n",
       "      <th>2</th>\n",
       "      <td>132292</td>\n",
       "      <td>NYC HOUSING AUTHORITY</td>\n",
       "      <td>External</td>\n",
       "      <td>52</td>\n",
       "      <td>Maintenance Worker - Technical Services-Heatin...</td>\n",
       "      <td>MAINTENANCE WORKER</td>\n",
       "      <td>90698</td>\n",
       "      <td>0</td>\n",
       "      <td>Maintenance &amp; Operations</td>\n",
       "      <td>F</td>\n",
       "      <td>...</td>\n",
       "      <td>1.  A Motor Vehicle Driverâ€™s License valid i...</td>\n",
       "      <td>Click the \"Apply Now\" button.</td>\n",
       "      <td>NaN</td>\n",
       "      <td>NaN</td>\n",
       "      <td>NaN</td>\n",
       "      <td>NYCHA has no residency requirements.</td>\n",
       "      <td>2013-10-24T00:00:00.000</td>\n",
       "      <td>NaN</td>\n",
       "      <td>2013-12-12T00:00:00.000</td>\n",
       "      <td>2019-07-23T00:00:00.000</td>\n",
       "    </tr>\n",
       "  </tbody>\n",
       "</table>\n",
       "<p>3 rows × 28 columns</p>\n",
       "</div>"
      ],
      "text/plain": [
       "   Job ID                        Agency Posting Type  # Of Positions  \\\n",
       "0   87990  DEPARTMENT OF BUSINESS SERV.     Internal               1   \n",
       "1   97899  DEPARTMENT OF BUSINESS SERV.     Internal               1   \n",
       "2  132292         NYC HOUSING AUTHORITY     External              52   \n",
       "\n",
       "                                      Business Title  \\\n",
       "0                                    Account Manager   \n",
       "1           EXECUTIVE DIRECTOR, BUSINESS DEVELOPMENT   \n",
       "2  Maintenance Worker - Technical Services-Heatin...   \n",
       "\n",
       "              Civil Service Title Title Code No Level  \\\n",
       "0  CONTRACT REVIEWER (OFFICE OF L         40563     1   \n",
       "1  ADMINISTRATIVE BUSINESS PROMOT         10009    M3   \n",
       "2              MAINTENANCE WORKER         90698     0   \n",
       "\n",
       "               Job Category Full-Time/Part-Time indicator  ...  \\\n",
       "0                       NaN                           NaN  ...   \n",
       "1                       NaN                             F  ...   \n",
       "2  Maintenance & Operations                             F  ...   \n",
       "\n",
       "                              Additional Information  \\\n",
       "0  Salary range for this position is: $42,405 - $...   \n",
       "1                                                NaN   \n",
       "2  1.  A Motor Vehicle Driverâ€™s License valid i...   \n",
       "\n",
       "                                            To Apply Hours/Shift  \\\n",
       "0                                                NaN         NaN   \n",
       "1  In addition to applying through this website, ...         NaN   \n",
       "2                      Click the \"Apply Now\" button.         NaN   \n",
       "\n",
       "  Work Location 1 Recruitment Contact  \\\n",
       "0             NaN                 NaN   \n",
       "1             NaN                 NaN   \n",
       "2             NaN                 NaN   \n",
       "\n",
       "                               Residency Requirement             Posting Date  \\\n",
       "0  New York City residency is generally required ...  2011-06-24T00:00:00.000   \n",
       "1  New York City residency is generally required ...  2012-01-26T00:00:00.000   \n",
       "2               NYCHA has no residency requirements.  2013-10-24T00:00:00.000   \n",
       "\n",
       "  Post Until          Posting Updated             Process Date  \n",
       "0        NaN  2011-06-24T00:00:00.000  2019-07-23T00:00:00.000  \n",
       "1        NaN  2012-01-26T00:00:00.000  2019-07-23T00:00:00.000  \n",
       "2        NaN  2013-12-12T00:00:00.000  2019-07-23T00:00:00.000  \n",
       "\n",
       "[3 rows x 28 columns]"
      ]
     },
     "execution_count": 41,
     "metadata": {},
     "output_type": "execute_result"
    }
   ],
   "source": [
    "#importing dataset\n",
    "df = pd.read_csv ('Dataset/nyc_jobs.csv')\n",
    "df.head(3)"
   ]
  },
  {
   "cell_type": "code",
   "execution_count": 42,
   "metadata": {},
   "outputs": [],
   "source": [
    "#Calculating Average salary and adding it as additional column\n",
    "\n",
    "df = df.assign(avg_sal=df.loc[:,[\"Salary Range From\",\"Salary Range To\"]].mean(axis=1))"
   ]
  },
  {
   "cell_type": "code",
   "execution_count": 43,
   "metadata": {},
   "outputs": [],
   "source": [
    "import numpy as np\n",
    "\n",
    "df[\"avg_sal\"]= np.where(df[\"Salary Frequency\"]==\"Daily\", df[\"avg_sal\"]*5*52, df[\"avg_sal\"])\n",
    "df[\"avg_sal\"]= np.where(df[\"Salary Frequency\"]==\"Hourly\", df[\"avg_sal\"]*35*52, df[\"avg_sal\"])"
   ]
  },
  {
   "cell_type": "code",
   "execution_count": 45,
   "metadata": {},
   "outputs": [
    {
     "data": {
      "text/plain": [
       "Text(0, 0.5, 'avg_sal')"
      ]
     },
     "execution_count": 45,
     "metadata": {},
     "output_type": "execute_result"
    },
    {
     "data": {
      "image/png": "[encoded data removed]",
      "text/plain": [
       "<Figure size 432x288 with 1 Axes>"
      ]
     },
     "metadata": {
      "needs_background": "light"
     },
     "output_type": "display_data"
    }
   ],
   "source": [
    "# K means clustering for Level and Average salary\n",
    "Level_sorted = (df['Level'].sort_values(ascending=True))\n",
    "plt.scatter(Level_sorted,df['avg_sal'])\n",
    "plt.xlabel('Level')\n",
    "plt.ylabel('avg_sal')"
   ]
  },
  {
   "cell_type": "code",
   "execution_count": 46,
   "metadata": {},
   "outputs": [],
   "source": [
    "#Encoding Level and Job Category\n",
    "#Categorical Encoding\n",
    "\n",
    "def ordinal_encoding(st):\n",
    "    dicts = {}\n",
    "    values = range(len(st))\n",
    "    keys = list(st)\n",
    "    n= 0\n",
    "    for i in keys:\n",
    "        if n <= len(st):\n",
    "            dicts[i] = n\n",
    "            n = n+1\n",
    "    return dicts\n"
   ]
  },
  {
   "cell_type": "code",
   "execution_count": 51,
   "metadata": {},
   "outputs": [],
   "source": [
    "Level_mapping = ordinal_encoding(set(df[\"Level\"]))\n",
    "Job_category_mapping = ordinal_encoding(set(df[\"Job Category\"]))"
   ]
  },
  {
   "cell_type": "code",
   "execution_count": 49,
   "metadata": {},
   "outputs": [],
   "source": [
    "import category_encoders as ce"
   ]
  },
  {
   "cell_type": "code",
   "execution_count": 56,
   "metadata": {},
   "outputs": [],
   "source": [
    "Encoder= ce.OrdinalEncoder(cols=['Level','Job Category'],return_df=True,\n",
    "                           mapping=[{'col':'Level','mapping':Level_mapping},\n",
    "                                    {'col':'Job Category','mapping':Job_category_mapping}])"
   ]
  },
  {
   "cell_type": "code",
   "execution_count": 59,
   "metadata": {},
   "outputs": [],
   "source": [
    "df = Encoder.fit_transform(df)"
   ]
  },
  {
   "cell_type": "code",
   "execution_count": 60,
   "metadata": {},
   "outputs": [
    {
     "data": {
      "text/html": [
       "<div>\n",
       "<style scoped>\n",
       "    .dataframe tbody tr th:only-of-type {\n",
       "        vertical-align: middle;\n",
       "    }\n",
       "\n",
       "    .dataframe tbody tr th {\n",
       "        vertical-align: top;\n",
       "    }\n",
       "\n",
       "    .dataframe thead th {\n",
       "        text-align: right;\n",
       "    }\n",
       "</style>\n",
       "<table border=\"1\" class=\"dataframe\">\n",
       "  <thead>\n",
       "    <tr style=\"text-align: right;\">\n",
       "      <th></th>\n",
       "      <th>Job ID</th>\n",
       "      <th>Agency</th>\n",
       "      <th>Posting Type</th>\n",
       "      <th># Of Positions</th>\n",
       "      <th>Business Title</th>\n",
       "      <th>Civil Service Title</th>\n",
       "      <th>Title Code No</th>\n",
       "      <th>Level</th>\n",
       "      <th>Job Category</th>\n",
       "      <th>Full-Time/Part-Time indicator</th>\n",
       "      <th>...</th>\n",
       "      <th>To Apply</th>\n",
       "      <th>Hours/Shift</th>\n",
       "      <th>Work Location 1</th>\n",
       "      <th>Recruitment Contact</th>\n",
       "      <th>Residency Requirement</th>\n",
       "      <th>Posting Date</th>\n",
       "      <th>Post Until</th>\n",
       "      <th>Posting Updated</th>\n",
       "      <th>Process Date</th>\n",
       "      <th>avg_sal</th>\n",
       "    </tr>\n",
       "  </thead>\n",
       "  <tbody>\n",
       "    <tr>\n",
       "      <th>0</th>\n",
       "      <td>87990</td>\n",
       "      <td>DEPARTMENT OF BUSINESS SERV.</td>\n",
       "      <td>Internal</td>\n",
       "      <td>1</td>\n",
       "      <td>Account Manager</td>\n",
       "      <td>CONTRACT REVIEWER (OFFICE OF L</td>\n",
       "      <td>40563</td>\n",
       "      <td>2</td>\n",
       "      <td>0</td>\n",
       "      <td>NaN</td>\n",
       "      <td>...</td>\n",
       "      <td>NaN</td>\n",
       "      <td>NaN</td>\n",
       "      <td>NaN</td>\n",
       "      <td>NaN</td>\n",
       "      <td>New York City residency is generally required ...</td>\n",
       "      <td>2011-06-24T00:00:00.000</td>\n",
       "      <td>NaN</td>\n",
       "      <td>2011-06-24T00:00:00.000</td>\n",
       "      <td>2019-07-23T00:00:00.000</td>\n",
       "      <td>53945.0</td>\n",
       "    </tr>\n",
       "    <tr>\n",
       "      <th>1</th>\n",
       "      <td>97899</td>\n",
       "      <td>DEPARTMENT OF BUSINESS SERV.</td>\n",
       "      <td>Internal</td>\n",
       "      <td>1</td>\n",
       "      <td>EXECUTIVE DIRECTOR, BUSINESS DEVELOPMENT</td>\n",
       "      <td>ADMINISTRATIVE BUSINESS PROMOT</td>\n",
       "      <td>10009</td>\n",
       "      <td>16</td>\n",
       "      <td>0</td>\n",
       "      <td>F</td>\n",
       "      <td>...</td>\n",
       "      <td>In addition to applying through this website, ...</td>\n",
       "      <td>NaN</td>\n",
       "      <td>NaN</td>\n",
       "      <td>NaN</td>\n",
       "      <td>New York City residency is generally required ...</td>\n",
       "      <td>2012-01-26T00:00:00.000</td>\n",
       "      <td>NaN</td>\n",
       "      <td>2012-01-26T00:00:00.000</td>\n",
       "      <td>2019-07-23T00:00:00.000</td>\n",
       "      <td>111377.0</td>\n",
       "    </tr>\n",
       "  </tbody>\n",
       "</table>\n",
       "<p>2 rows × 29 columns</p>\n",
       "</div>"
      ],
      "text/plain": [
       "   Job ID                        Agency Posting Type  # Of Positions  \\\n",
       "0   87990  DEPARTMENT OF BUSINESS SERV.     Internal               1   \n",
       "1   97899  DEPARTMENT OF BUSINESS SERV.     Internal               1   \n",
       "\n",
       "                             Business Title             Civil Service Title  \\\n",
       "0                           Account Manager  CONTRACT REVIEWER (OFFICE OF L   \n",
       "1  EXECUTIVE DIRECTOR, BUSINESS DEVELOPMENT  ADMINISTRATIVE BUSINESS PROMOT   \n",
       "\n",
       "  Title Code No  Level  Job Category Full-Time/Part-Time indicator  ...  \\\n",
       "0         40563      2             0                           NaN  ...   \n",
       "1         10009     16             0                             F  ...   \n",
       "\n",
       "                                            To Apply  Hours/Shift  \\\n",
       "0                                                NaN          NaN   \n",
       "1  In addition to applying through this website, ...          NaN   \n",
       "\n",
       "  Work Location 1 Recruitment Contact  \\\n",
       "0             NaN                 NaN   \n",
       "1             NaN                 NaN   \n",
       "\n",
       "                               Residency Requirement             Posting Date  \\\n",
       "0  New York City residency is generally required ...  2011-06-24T00:00:00.000   \n",
       "1  New York City residency is generally required ...  2012-01-26T00:00:00.000   \n",
       "\n",
       "  Post Until          Posting Updated             Process Date   avg_sal  \n",
       "0        NaN  2011-06-24T00:00:00.000  2019-07-23T00:00:00.000   53945.0  \n",
       "1        NaN  2012-01-26T00:00:00.000  2019-07-23T00:00:00.000  111377.0  \n",
       "\n",
       "[2 rows x 29 columns]"
      ]
     },
     "execution_count": 60,
     "metadata": {},
     "output_type": "execute_result"
    }
   ],
   "source": [
    "#Checking for the encoded dataset\n",
    "df.head(2)"
   ]
  },
  {
   "cell_type": "code",
   "execution_count": 64,
   "metadata": {},
   "outputs": [
    {
     "data": {
      "text/plain": [
       "array([1, 2, 1, ..., 1, 1, 2])"
      ]
     },
     "execution_count": 64,
     "metadata": {},
     "output_type": "execute_result"
    }
   ],
   "source": [
    "#K Means clustering for features Level and average Salary\n",
    "km = KMeans(n_clusters=3)\n",
    "y_predicted = km.fit_predict(df[['Level','avg_sal']])\n",
    "y_predicted"
   ]
  },
  {
   "cell_type": "code",
   "execution_count": null,
   "metadata": {},
   "outputs": [],
   "source": [
    "df['cluster']=y_predicted"
   ]
  },
  {
   "cell_type": "code",
   "execution_count": 66,
   "metadata": {},
   "outputs": [
    {
     "data": {
      "text/plain": [
       "<matplotlib.legend.Legend at 0x224aae84940>"
      ]
     },
     "execution_count": 66,
     "metadata": {},
     "output_type": "execute_result"
    },
    {
     "data": {
      "image/png": "[encoded data removed]",
      "text/plain": [
       "<Figure size 432x288 with 1 Axes>"
      ]
     },
     "metadata": {
      "needs_background": "light"
     },
     "output_type": "display_data"
    }
   ],
   "source": [
    "#Plotting graph for the developed cluster\n",
    "df1 = df[df.cluster==0]\n",
    "df2 = df[df.cluster==1]\n",
    "df3 = df[df.cluster==2]\n",
    "plt.scatter(df1.Level,df1['avg_sal'],color='green')\n",
    "plt.scatter(df2.Level,df2['avg_sal'],color='red')\n",
    "plt.scatter(df3.Level,df3['avg_sal'],color='black')\n",
    "plt.scatter(km.cluster_centers_[:,0],km.cluster_centers_[:,1],color='purple',marker='*',label='centroid')\n",
    "plt.xlabel('Level')\n",
    "plt.ylabel('Avg_sal')\n",
    "plt.legend()"
   ]
  },
  {
   "cell_type": "code",
   "execution_count": 77,
   "metadata": {},
   "outputs": [
    {
     "data": {
      "text/plain": [
       "array([4, 3, 4, ..., 0, 0, 3])"
      ]
     },
     "execution_count": 77,
     "metadata": {},
     "output_type": "execute_result"
    }
   ],
   "source": [
    "#K Means clustering for features Job Category and average Salary\n",
    "\n",
    "km1 = KMeans(n_clusters=5)\n",
    "y_predicted1 = km1.fit_predict(df[['Job Category','avg_sal']])\n",
    "y_predicted1"
   ]
  },
  {
   "cell_type": "code",
   "execution_count": null,
   "metadata": {},
   "outputs": [],
   "source": [
    "df['cluster']=y_predicted1\n",
    "df.head()"
   ]
  },
  {
   "cell_type": "code",
   "execution_count": 79,
   "metadata": {},
   "outputs": [
    {
     "data": {
      "text/plain": [
       "<matplotlib.legend.Legend at 0x224ab0a4190>"
      ]
     },
     "execution_count": 79,
     "metadata": {},
     "output_type": "execute_result"
    },
    {
     "data": {
      "image/png": "[encoded data removed]",
      "text/plain": [
       "<Figure size 432x288 with 1 Axes>"
      ]
     },
     "metadata": {
      "needs_background": "light"
     },
     "output_type": "display_data"
    }
   ],
   "source": [
    "df1 = df[df.cluster==0]\n",
    "df2 = df[df.cluster==1]\n",
    "df3 = df[df.cluster==2]\n",
    "df4 = df[df.cluster==3]\n",
    "df5 = df[df.cluster==4]\n",
    "\n",
    "\n",
    "plt.scatter(df1['Job Category'],df1['avg_sal'],color='green')\n",
    "plt.scatter(df2['Job Category'],df2['avg_sal'],color='red')\n",
    "plt.scatter(df3['Job Category'],df3['avg_sal'],color='black')\n",
    "plt.scatter(df4['Job Category'],df4['avg_sal'],color='blue')\n",
    "plt.scatter(df5['Job Category'],df5['avg_sal'],color='pink')\n",
    "\n",
    "plt.scatter(km1.cluster_centers_[:,0],km1.cluster_centers_[:,1],color='purple',marker='*',label='centroid')\n",
    "plt.xlabel('Job Category')\n",
    "plt.ylabel('Avg_sal')\n",
    "plt.legend()"
   ]
  }
 ],
 "metadata": {
  "kernelspec": {
   "display_name": "Python 3",
   "language": "python",
   "name": "python3"
  },
  "language_info": {
   "codemirror_mode": {
    "name": "ipython",
    "version": 3
   },
   "file_extension": ".py",
   "mimetype": "text/x-python",
   "name": "python",
   "nbconvert_exporter": "python",
   "pygments_lexer": "ipython3",
   "version": "3.8.3"
  }
 },
 "nbformat": 4,
 "nbformat_minor": 4
}
