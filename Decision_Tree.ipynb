{
 "cells": [
  {
   "cell_type": "code",
   "execution_count": 249,
   "metadata": {},
   "outputs": [],
   "source": [
    "from matplotlib import pyplot as plt\n",
    "from sklearn import datasets\n",
    "from sklearn.tree import DecisionTreeClassifier \n",
    "from sklearn import tree\n",
    "\n",
    "import pandas as pd\n"
   ]
  },
  {
   "cell_type": "code",
   "execution_count": 250,
   "metadata": {},
   "outputs": [
    {
     "data": {
      "text/html": [
       "<div>\n",
       "<style scoped>\n",
       "    .dataframe tbody tr th:only-of-type {\n",
       "        vertical-align: middle;\n",
       "    }\n",
       "\n",
       "    .dataframe tbody tr th {\n",
       "        vertical-align: top;\n",
       "    }\n",
       "\n",
       "    .dataframe thead th {\n",
       "        text-align: right;\n",
       "    }\n",
       "</style>\n",
       "<table border=\"1\" class=\"dataframe\">\n",
       "  <thead>\n",
       "    <tr style=\"text-align: right;\">\n",
       "      <th></th>\n",
       "      <th>Job ID</th>\n",
       "      <th>Agency</th>\n",
       "      <th>Posting Type</th>\n",
       "      <th># Of Positions</th>\n",
       "      <th>Business Title</th>\n",
       "      <th>Civil Service Title</th>\n",
       "      <th>Title Code No</th>\n",
       "      <th>Level</th>\n",
       "      <th>Job Category</th>\n",
       "      <th>Full-Time/Part-Time indicator</th>\n",
       "      <th>...</th>\n",
       "      <th>Additional Information</th>\n",
       "      <th>To Apply</th>\n",
       "      <th>Hours/Shift</th>\n",
       "      <th>Work Location 1</th>\n",
       "      <th>Recruitment Contact</th>\n",
       "      <th>Residency Requirement</th>\n",
       "      <th>Posting Date</th>\n",
       "      <th>Post Until</th>\n",
       "      <th>Posting Updated</th>\n",
       "      <th>Process Date</th>\n",
       "    </tr>\n",
       "  </thead>\n",
       "  <tbody>\n",
       "    <tr>\n",
       "      <th>0</th>\n",
       "      <td>87990</td>\n",
       "      <td>DEPARTMENT OF BUSINESS SERV.</td>\n",
       "      <td>Internal</td>\n",
       "      <td>1</td>\n",
       "      <td>Account Manager</td>\n",
       "      <td>CONTRACT REVIEWER (OFFICE OF L</td>\n",
       "      <td>40563</td>\n",
       "      <td>1</td>\n",
       "      <td>NaN</td>\n",
       "      <td>NaN</td>\n",
       "      <td>...</td>\n",
       "      <td>Salary range for this position is: $42,405 - $...</td>\n",
       "      <td>NaN</td>\n",
       "      <td>NaN</td>\n",
       "      <td>NaN</td>\n",
       "      <td>NaN</td>\n",
       "      <td>New York City residency is generally required ...</td>\n",
       "      <td>2011-06-24T00:00:00.000</td>\n",
       "      <td>NaN</td>\n",
       "      <td>2011-06-24T00:00:00.000</td>\n",
       "      <td>2019-07-23T00:00:00.000</td>\n",
       "    </tr>\n",
       "    <tr>\n",
       "      <th>1</th>\n",
       "      <td>97899</td>\n",
       "      <td>DEPARTMENT OF BUSINESS SERV.</td>\n",
       "      <td>Internal</td>\n",
       "      <td>1</td>\n",
       "      <td>EXECUTIVE DIRECTOR, BUSINESS DEVELOPMENT</td>\n",
       "      <td>ADMINISTRATIVE BUSINESS PROMOT</td>\n",
       "      <td>10009</td>\n",
       "      <td>M3</td>\n",
       "      <td>NaN</td>\n",
       "      <td>F</td>\n",
       "      <td>...</td>\n",
       "      <td>NaN</td>\n",
       "      <td>In addition to applying through this website, ...</td>\n",
       "      <td>NaN</td>\n",
       "      <td>NaN</td>\n",
       "      <td>NaN</td>\n",
       "      <td>New York City residency is generally required ...</td>\n",
       "      <td>2012-01-26T00:00:00.000</td>\n",
       "      <td>NaN</td>\n",
       "      <td>2012-01-26T00:00:00.000</td>\n",
       "      <td>2019-07-23T00:00:00.000</td>\n",
       "    </tr>\n",
       "    <tr>\n",
       "      <th>2</th>\n",
       "      <td>132292</td>\n",
       "      <td>NYC HOUSING AUTHORITY</td>\n",
       "      <td>External</td>\n",
       "      <td>52</td>\n",
       "      <td>Maintenance Worker - Technical Services-Heatin...</td>\n",
       "      <td>MAINTENANCE WORKER</td>\n",
       "      <td>90698</td>\n",
       "      <td>0</td>\n",
       "      <td>Maintenance &amp; Operations</td>\n",
       "      <td>F</td>\n",
       "      <td>...</td>\n",
       "      <td>1.  A Motor Vehicle Driverâ€™s License valid i...</td>\n",
       "      <td>Click the \"Apply Now\" button.</td>\n",
       "      <td>NaN</td>\n",
       "      <td>NaN</td>\n",
       "      <td>NaN</td>\n",
       "      <td>NYCHA has no residency requirements.</td>\n",
       "      <td>2013-10-24T00:00:00.000</td>\n",
       "      <td>NaN</td>\n",
       "      <td>2013-12-12T00:00:00.000</td>\n",
       "      <td>2019-07-23T00:00:00.000</td>\n",
       "    </tr>\n",
       "  </tbody>\n",
       "</table>\n",
       "<p>3 rows × 28 columns</p>\n",
       "</div>"
      ],
      "text/plain": [
       "   Job ID                        Agency Posting Type  # Of Positions  \\\n",
       "0   87990  DEPARTMENT OF BUSINESS SERV.     Internal               1   \n",
       "1   97899  DEPARTMENT OF BUSINESS SERV.     Internal               1   \n",
       "2  132292         NYC HOUSING AUTHORITY     External              52   \n",
       "\n",
       "                                      Business Title  \\\n",
       "0                                    Account Manager   \n",
       "1           EXECUTIVE DIRECTOR, BUSINESS DEVELOPMENT   \n",
       "2  Maintenance Worker - Technical Services-Heatin...   \n",
       "\n",
       "              Civil Service Title Title Code No Level  \\\n",
       "0  CONTRACT REVIEWER (OFFICE OF L         40563     1   \n",
       "1  ADMINISTRATIVE BUSINESS PROMOT         10009    M3   \n",
       "2              MAINTENANCE WORKER         90698     0   \n",
       "\n",
       "               Job Category Full-Time/Part-Time indicator  ...  \\\n",
       "0                       NaN                           NaN  ...   \n",
       "1                       NaN                             F  ...   \n",
       "2  Maintenance & Operations                             F  ...   \n",
       "\n",
       "                              Additional Information  \\\n",
       "0  Salary range for this position is: $42,405 - $...   \n",
       "1                                                NaN   \n",
       "2  1.  A Motor Vehicle Driverâ€™s License valid i...   \n",
       "\n",
       "                                            To Apply Hours/Shift  \\\n",
       "0                                                NaN         NaN   \n",
       "1  In addition to applying through this website, ...         NaN   \n",
       "2                      Click the \"Apply Now\" button.         NaN   \n",
       "\n",
       "  Work Location 1 Recruitment Contact  \\\n",
       "0             NaN                 NaN   \n",
       "1             NaN                 NaN   \n",
       "2             NaN                 NaN   \n",
       "\n",
       "                               Residency Requirement             Posting Date  \\\n",
       "0  New York City residency is generally required ...  2011-06-24T00:00:00.000   \n",
       "1  New York City residency is generally required ...  2012-01-26T00:00:00.000   \n",
       "2               NYCHA has no residency requirements.  2013-10-24T00:00:00.000   \n",
       "\n",
       "  Post Until          Posting Updated             Process Date  \n",
       "0        NaN  2011-06-24T00:00:00.000  2019-07-23T00:00:00.000  \n",
       "1        NaN  2012-01-26T00:00:00.000  2019-07-23T00:00:00.000  \n",
       "2        NaN  2013-12-12T00:00:00.000  2019-07-23T00:00:00.000  \n",
       "\n",
       "[3 rows x 28 columns]"
      ]
     },
     "execution_count": 250,
     "metadata": {},
     "output_type": "execute_result"
    }
   ],
   "source": [
    "df = pd.read_csv ('Dataset/nyc_jobs.csv')\n",
    "df.head(3)"
   ]
  },
  {
   "cell_type": "code",
   "execution_count": null,
   "metadata": {},
   "outputs": [],
   "source": []
  },
  {
   "cell_type": "code",
   "execution_count": 251,
   "metadata": {},
   "outputs": [],
   "source": [
    "df = df.assign(avg_sal=df.loc[:,[\"Salary Range From\",\"Salary Range To\"]].mean(axis=1))"
   ]
  },
  {
   "cell_type": "code",
   "execution_count": 252,
   "metadata": {},
   "outputs": [],
   "source": [
    "import numpy as np\n",
    "\n",
    "df[\"avg_sal\"]= np.where(df[\"Salary Frequency\"]==\"Daily\", (df[\"avg_sal\"]/(5*52)).astype(int), df[\"avg_sal\"])\n",
    "df[\"avg_sal\"]= np.where(df[\"Salary Frequency\"]==\"Annual\", (df[\"avg_sal\"]/(52*35)).astype(int), df[\"avg_sal\"])"
   ]
  },
  {
   "cell_type": "code",
   "execution_count": 253,
   "metadata": {},
   "outputs": [],
   "source": [
    "#Encoding Level and Job Category\n",
    "#Categorical Encoding\n",
    "\n",
    "def ordinal_encoding(st):\n",
    "    dicts = {}\n",
    "    values = range(len(st))\n",
    "    keys = list(st)\n",
    "    n= 0\n",
    "    for i in keys:\n",
    "        if n <= len(st):\n",
    "            dicts[i] = n\n",
    "            n = n+1\n",
    "    return dicts"
   ]
  },
  {
   "cell_type": "code",
   "execution_count": 254,
   "metadata": {},
   "outputs": [],
   "source": [
    "#constant variables\n",
    "Agency_mapping = ordinal_encoding(set(df[\"Agency\"]))\n",
    "Posting_type_mapping = ordinal_encoding(set(df[\"Posting Type\"]))\n",
    "Business_title_mapping = ordinal_encoding(set(df[\"Business Title\"]))\n",
    "Civil_service_title_mapping = ordinal_encoding(set(df[\"Civil Service Title\"]))\n",
    "Level_mapping = ordinal_encoding(set(df[\"Level\"]))\n",
    "Job_category_mapping = ordinal_encoding(set(df[\"Job Category\"]))\n",
    "Full_part_mapping = ordinal_encoding(set(df[\"Full-Time/Part-Time indicator\"]))\n",
    "Salary_frequency_mapping = ordinal_encoding(set(df[\"Salary Frequency\"]))\n",
    "Division_unit_mapping = ordinal_encoding(set(df[\"Division/Work Unit\"]))\n",
    "residency_mapping = ordinal_encoding(set(df[\"Residency Requirement\"]))"
   ]
  },
  {
   "cell_type": "code",
   "execution_count": 255,
   "metadata": {},
   "outputs": [],
   "source": [
    "# create object of Ordinalencoding\n",
    "\n",
    "import category_encoders as ce\n",
    "\n",
    "encoder= ce.OrdinalEncoder(cols=['Agency','Posting Type','Business Title','Civil Service Title','Level','Job Category','Full-Time/Part-Time indicator','Salary Frequency','Division/Work Unit','Residency Requirement'],return_df=True,\n",
    "                           mapping=[{'col':'Agency','mapping':Agency_mapping},\n",
    "                                    {'col':'Posting Type','mapping':Posting_type_mapping},\n",
    "                                    {'col':'Business Title','mapping':Business_title_mapping},\n",
    "                                    {'col':'Civil Service Title','mapping':Civil_service_title_mapping},\n",
    "                                    {'col':'Level','mapping':Level_mapping},\n",
    "                                    {'col':'Job Category','mapping':Job_category_mapping},\n",
    "                                    {'col':'Full-Time/Part-Time indicator','mapping':Full_part_mapping},\n",
    "                                    {'col':'Salary Frequency','mapping':Salary_frequency_mapping},\n",
    "                                    {'col':'Division/Work Unit','mapping':Division_unit_mapping},\n",
    "                                    {'col':'Residency Requirement','mapping':residency_mapping}])"
   ]
  },
  {
   "cell_type": "code",
   "execution_count": 256,
   "metadata": {},
   "outputs": [],
   "source": [
    "df = encoder.fit_transform(df)"
   ]
  },
  {
   "cell_type": "code",
   "execution_count": 257,
   "metadata": {},
   "outputs": [],
   "source": [
    "mean_sal = int(df[\"avg_sal\"].mean())"
   ]
  },
  {
   "cell_type": "code",
   "execution_count": 258,
   "metadata": {},
   "outputs": [
    {
     "data": {
      "text/plain": [
       "41"
      ]
     },
     "execution_count": 258,
     "metadata": {},
     "output_type": "execute_result"
    }
   ],
   "source": [
    "mean_sal"
   ]
  },
  {
   "cell_type": "code",
   "execution_count": 259,
   "metadata": {},
   "outputs": [],
   "source": [
    "df[\"income\"]= np.where(df[\"avg_sal\"] <= mean_sal, 1, 0)"
   ]
  },
  {
   "cell_type": "code",
   "execution_count": 260,
   "metadata": {},
   "outputs": [],
   "source": [
    "df = df.drop([\"Job ID\",\"Title Code No\",\"Work Location\",\"Job Description\",\"Minimum Qual Requirements\",\n",
    "                   \"Preferred Skills\",\"Additional Information\",\"To Apply\",\"Hours/Shift\",\"Work Location 1\",\"Recruitment Contact\",\"Posting Date\",\n",
    "                   \"Post Until\",\"Posting Updated\",\"Process Date\"],axis=1)"
   ]
  },
  {
   "cell_type": "code",
   "execution_count": 261,
   "metadata": {},
   "outputs": [
    {
     "data": {
      "text/plain": [
       "Index(['Agency', 'Posting Type', '# Of Positions', 'Business Title',\n",
       "       'Civil Service Title', 'Level', 'Job Category',\n",
       "       'Full-Time/Part-Time indicator', 'Salary Range From', 'Salary Range To',\n",
       "       'Salary Frequency', 'Division/Work Unit', 'Residency Requirement',\n",
       "       'avg_sal', 'income'],\n",
       "      dtype='object')"
      ]
     },
     "execution_count": 261,
     "metadata": {},
     "output_type": "execute_result"
    }
   ],
   "source": [
    "df.columns"
   ]
  },
  {
   "cell_type": "code",
   "execution_count": 168,
   "metadata": {},
   "outputs": [
    {
     "data": {
      "text/plain": [
       "3028"
      ]
     },
     "execution_count": 168,
     "metadata": {},
     "output_type": "execute_result"
    }
   ],
   "source": [
    "len(df)"
   ]
  },
  {
   "cell_type": "code",
   "execution_count": 270,
   "metadata": {},
   "outputs": [],
   "source": [
    "df.drop_duplicates(keep=False,inplace=True)"
   ]
  },
  {
   "cell_type": "code",
   "execution_count": 271,
   "metadata": {},
   "outputs": [
    {
     "data": {
      "text/plain": [
       "2854"
      ]
     },
     "execution_count": 271,
     "metadata": {},
     "output_type": "execute_result"
    }
   ],
   "source": [
    "len(df)"
   ]
  },
  {
   "cell_type": "code",
   "execution_count": 272,
   "metadata": {},
   "outputs": [
    {
     "data": {
      "text/plain": [
       "Agency                             int32\n",
       "Posting Type                       int32\n",
       "# Of Positions                     int64\n",
       "Business Title                     int32\n",
       "Civil Service Title                int32\n",
       "Level                              int32\n",
       "Job Category                       int32\n",
       "Full-Time/Part-Time indicator      int32\n",
       "Salary Range From                float64\n",
       "Salary Range To                  float64\n",
       "Salary Frequency                   int32\n",
       "Division/Work Unit                 int32\n",
       "Residency Requirement              int32\n",
       "avg_sal                          float64\n",
       "income                             int32\n",
       "dtype: object"
      ]
     },
     "execution_count": 272,
     "metadata": {},
     "output_type": "execute_result"
    }
   ],
   "source": [
    "df.dtypes"
   ]
  },
  {
   "cell_type": "code",
   "execution_count": 273,
   "metadata": {},
   "outputs": [
    {
     "data": {
      "text/html": [
       "<div>\n",
       "<style scoped>\n",
       "    .dataframe tbody tr th:only-of-type {\n",
       "        vertical-align: middle;\n",
       "    }\n",
       "\n",
       "    .dataframe tbody tr th {\n",
       "        vertical-align: top;\n",
       "    }\n",
       "\n",
       "    .dataframe thead th {\n",
       "        text-align: right;\n",
       "    }\n",
       "</style>\n",
       "<table border=\"1\" class=\"dataframe\">\n",
       "  <thead>\n",
       "    <tr style=\"text-align: right;\">\n",
       "      <th></th>\n",
       "      <th>Agency</th>\n",
       "      <th>Posting Type</th>\n",
       "      <th># Of Positions</th>\n",
       "      <th>Business Title</th>\n",
       "      <th>Civil Service Title</th>\n",
       "      <th>Level</th>\n",
       "      <th>Job Category</th>\n",
       "      <th>Full-Time/Part-Time indicator</th>\n",
       "      <th>Salary Range From</th>\n",
       "      <th>Salary Range To</th>\n",
       "      <th>Salary Frequency</th>\n",
       "      <th>Division/Work Unit</th>\n",
       "      <th>Residency Requirement</th>\n",
       "      <th>avg_sal</th>\n",
       "      <th>income</th>\n",
       "    </tr>\n",
       "  </thead>\n",
       "  <tbody>\n",
       "    <tr>\n",
       "      <th>0</th>\n",
       "      <td>29</td>\n",
       "      <td>0</td>\n",
       "      <td>1</td>\n",
       "      <td>698</td>\n",
       "      <td>245</td>\n",
       "      <td>11</td>\n",
       "      <td>0</td>\n",
       "      <td>0</td>\n",
       "      <td>42405.00</td>\n",
       "      <td>65485.00</td>\n",
       "      <td>2</td>\n",
       "      <td>173</td>\n",
       "      <td>31</td>\n",
       "      <td>29.0</td>\n",
       "      <td>1</td>\n",
       "    </tr>\n",
       "    <tr>\n",
       "      <th>1</th>\n",
       "      <td>29</td>\n",
       "      <td>0</td>\n",
       "      <td>1</td>\n",
       "      <td>1190</td>\n",
       "      <td>132</td>\n",
       "      <td>3</td>\n",
       "      <td>0</td>\n",
       "      <td>2</td>\n",
       "      <td>60740.00</td>\n",
       "      <td>162014.00</td>\n",
       "      <td>2</td>\n",
       "      <td>454</td>\n",
       "      <td>31</td>\n",
       "      <td>61.0</td>\n",
       "      <td>0</td>\n",
       "    </tr>\n",
       "    <tr>\n",
       "      <th>2</th>\n",
       "      <td>46</td>\n",
       "      <td>1</td>\n",
       "      <td>52</td>\n",
       "      <td>391</td>\n",
       "      <td>30</td>\n",
       "      <td>17</td>\n",
       "      <td>102</td>\n",
       "      <td>2</td>\n",
       "      <td>51907.68</td>\n",
       "      <td>54580.32</td>\n",
       "      <td>2</td>\n",
       "      <td>337</td>\n",
       "      <td>15</td>\n",
       "      <td>29.0</td>\n",
       "      <td>1</td>\n",
       "    </tr>\n",
       "    <tr>\n",
       "      <th>3</th>\n",
       "      <td>46</td>\n",
       "      <td>0</td>\n",
       "      <td>52</td>\n",
       "      <td>391</td>\n",
       "      <td>30</td>\n",
       "      <td>17</td>\n",
       "      <td>102</td>\n",
       "      <td>2</td>\n",
       "      <td>51907.68</td>\n",
       "      <td>54580.32</td>\n",
       "      <td>2</td>\n",
       "      <td>337</td>\n",
       "      <td>15</td>\n",
       "      <td>29.0</td>\n",
       "      <td>1</td>\n",
       "    </tr>\n",
       "    <tr>\n",
       "      <th>4</th>\n",
       "      <td>46</td>\n",
       "      <td>0</td>\n",
       "      <td>50</td>\n",
       "      <td>742</td>\n",
       "      <td>162</td>\n",
       "      <td>17</td>\n",
       "      <td>102</td>\n",
       "      <td>2</td>\n",
       "      <td>35.00</td>\n",
       "      <td>35.00</td>\n",
       "      <td>1</td>\n",
       "      <td>365</td>\n",
       "      <td>34</td>\n",
       "      <td>35.0</td>\n",
       "      <td>1</td>\n",
       "    </tr>\n",
       "  </tbody>\n",
       "</table>\n",
       "</div>"
      ],
      "text/plain": [
       "   Agency  Posting Type  # Of Positions  Business Title  Civil Service Title  \\\n",
       "0      29             0               1             698                  245   \n",
       "1      29             0               1            1190                  132   \n",
       "2      46             1              52             391                   30   \n",
       "3      46             0              52             391                   30   \n",
       "4      46             0              50             742                  162   \n",
       "\n",
       "   Level  Job Category  Full-Time/Part-Time indicator  Salary Range From  \\\n",
       "0     11             0                              0           42405.00   \n",
       "1      3             0                              2           60740.00   \n",
       "2     17           102                              2           51907.68   \n",
       "3     17           102                              2           51907.68   \n",
       "4     17           102                              2              35.00   \n",
       "\n",
       "   Salary Range To  Salary Frequency  Division/Work Unit  \\\n",
       "0         65485.00                 2                 173   \n",
       "1        162014.00                 2                 454   \n",
       "2         54580.32                 2                 337   \n",
       "3         54580.32                 2                 337   \n",
       "4            35.00                 1                 365   \n",
       "\n",
       "   Residency Requirement  avg_sal  income  \n",
       "0                     31     29.0       1  \n",
       "1                     31     61.0       0  \n",
       "2                     15     29.0       1  \n",
       "3                     15     29.0       1  \n",
       "4                     34     35.0       1  "
      ]
     },
     "execution_count": 273,
     "metadata": {},
     "output_type": "execute_result"
    }
   ],
   "source": [
    "df.head()"
   ]
  },
  {
   "cell_type": "code",
   "execution_count": 274,
   "metadata": {},
   "outputs": [],
   "source": [
    "feature_cols = ['Agency', 'Posting Type', '# Of Positions', 'Business Title',\n",
    "       'Civil Service Title', 'Level', 'Job Category',\n",
    "       'Full-Time/Part-Time indicator', 'Salary Frequency',\n",
    "       'Division/Work Unit', 'Residency Requirement']\n",
    "x = df[feature_cols]\n",
    "y = df.income"
   ]
  },
  {
   "cell_type": "code",
   "execution_count": 275,
   "metadata": {},
   "outputs": [],
   "source": [
    "from sklearn.model_selection import train_test_split\n",
    "\n",
    "X_train, X_test, y_train, y_test = train_test_split(x, y, test_size=0.3, random_state=1) # 70% training and 30% test\n"
   ]
  },
  {
   "cell_type": "code",
   "execution_count": 303,
   "metadata": {},
   "outputs": [],
   "source": [
    "clf = DecisionTreeClassifier(criterion='gini',random_state=0, max_depth=3)\n",
    "\n",
    "# Train Decision Tree Classifer\n",
    "clf = clf.fit(X_train,y_train)\n",
    "\n",
    "#Predict the response for test dataset\n",
    "y_pred = clf.predict(X_test)"
   ]
  },
  {
   "cell_type": "code",
   "execution_count": 304,
   "metadata": {},
   "outputs": [
    {
     "name": "stdout",
     "output_type": "stream",
     "text": [
      "Accuracy: 0.7281213535589265\n"
     ]
    }
   ],
   "source": [
    "from sklearn import metrics\n",
    "\n",
    "print(\"Accuracy:\",metrics.accuracy_score(y_test, y_pred))"
   ]
  },
  {
   "cell_type": "code",
   "execution_count": 305,
   "metadata": {},
   "outputs": [
    {
     "name": "stdout",
     "output_type": "stream",
     "text": [
      "              precision    recall  f1-score   support\n",
      "\n",
      "           0       0.74      0.62      0.67       390\n",
      "           1       0.72      0.82      0.77       467\n",
      "\n",
      "    accuracy                           0.73       857\n",
      "   macro avg       0.73      0.72      0.72       857\n",
      "weighted avg       0.73      0.73      0.72       857\n",
      "\n"
     ]
    }
   ],
   "source": [
    "from sklearn.metrics import classification_report\n",
    "\n",
    "print(classification_report(y_test, y_pred))"
   ]
  },
  {
   "cell_type": "code",
   "execution_count": 306,
   "metadata": {},
   "outputs": [
    {
     "data": {
      "image/png": "[encoded data removed]",
      "text/plain": [
       "<Figure size 720x216 with 2 Axes>"
      ]
     },
     "metadata": {
      "needs_background": "light"
     },
     "output_type": "display_data"
    }
   ],
   "source": [
    "from sklearn.metrics import confusion_matrix\n",
    "import seaborn as sns\n",
    "\n",
    "cm=confusion_matrix(y_test,y_pred)\n",
    "plt.figure(figsize=(10,3))\n",
    "plt.title(\"Confusion Matrix\")\n",
    "sns.heatmap(cm, annot=True,fmt='d', cmap='Blues')\n",
    "plt.ylabel(\"Actual Values\")\n",
    "plt.xlabel(\"Predicted Values\")\n",
    "plt.savefig('confusion_matrix.png')"
   ]
  },
  {
   "cell_type": "code",
   "execution_count": 307,
   "metadata": {},
   "outputs": [
    {
     "data": {
      "text/plain": [
       "[Text(167.4, 190.26, 'X[10] <= 39.5\\ngini = 0.496\\nsamples = 1997\\nvalue = [910, 1087]'),\n",
       " Text(83.7, 135.9, 'X[10] <= 18.5\\ngini = 0.463\\nsamples = 1503\\nvalue = [548, 955]'),\n",
       " Text(41.85, 81.53999999999999, 'X[2] <= 4.5\\ngini = 0.384\\nsamples = 312\\nvalue = [231, 81]'),\n",
       " Text(20.925, 27.180000000000007, 'gini = 0.329\\nsamples = 275\\nvalue = [218, 57]'),\n",
       " Text(62.775000000000006, 27.180000000000007, 'gini = 0.456\\nsamples = 37\\nvalue = [13, 24]'),\n",
       " Text(125.55000000000001, 81.53999999999999, 'X[4] <= 50.0\\ngini = 0.391\\nsamples = 1191\\nvalue = [317, 874]'),\n",
       " Text(104.625, 27.180000000000007, 'gini = 0.134\\nsamples = 264\\nvalue = [19, 245]'),\n",
       " Text(146.475, 27.180000000000007, 'gini = 0.436\\nsamples = 927\\nvalue = [298, 629]'),\n",
       " Text(251.10000000000002, 135.9, 'X[5] <= 10.5\\ngini = 0.392\\nsamples = 494\\nvalue = [362, 132]'),\n",
       " Text(209.25, 81.53999999999999, 'X[2] <= 1.5\\ngini = 0.162\\nsamples = 191\\nvalue = [174, 17]'),\n",
       " Text(188.32500000000002, 27.180000000000007, 'gini = 0.083\\nsamples = 162\\nvalue = [155, 7]'),\n",
       " Text(230.175, 27.180000000000007, 'gini = 0.452\\nsamples = 29\\nvalue = [19, 10]'),\n",
       " Text(292.95, 81.53999999999999, 'X[6] <= 110.5\\ngini = 0.471\\nsamples = 303\\nvalue = [188, 115]'),\n",
       " Text(272.02500000000003, 27.180000000000007, 'gini = 0.5\\nsamples = 191\\nvalue = [96, 95]'),\n",
       " Text(313.875, 27.180000000000007, 'gini = 0.293\\nsamples = 112\\nvalue = [92, 20]')]"
      ]
     },
     "execution_count": 307,
     "metadata": {},
     "output_type": "execute_result"
    },
    {
     "data": {
      "image/png": "[encoded data removed]",
      "text/plain": [
       "<Figure size 432x288 with 1 Axes>"
      ]
     },
     "metadata": {
      "needs_background": "light"
     },
     "output_type": "display_data"
    }
   ],
   "source": [
    "tree.plot_tree(clf)"
   ]
  },
  {
   "cell_type": "code",
   "execution_count": 316,
   "metadata": {},
   "outputs": [
    {
     "data": {
      "text/plain": [
       "[Text(465.0, 528.5, 'X[10] <= 39.5\\ngini = 0.496\\nsamples = 1997\\nvalue = [910, 1087]'),\n",
       " Text(232.5, 377.5, 'X[10] <= 18.5\\ngini = 0.463\\nsamples = 1503\\nvalue = [548, 955]'),\n",
       " Text(116.25, 226.5, 'X[2] <= 4.5\\ngini = 0.384\\nsamples = 312\\nvalue = [231, 81]'),\n",
       " Text(58.125, 75.5, 'gini = 0.329\\nsamples = 275\\nvalue = [218, 57]'),\n",
       " Text(174.375, 75.5, 'gini = 0.456\\nsamples = 37\\nvalue = [13, 24]'),\n",
       " Text(348.75, 226.5, 'X[4] <= 50.0\\ngini = 0.391\\nsamples = 1191\\nvalue = [317, 874]'),\n",
       " Text(290.625, 75.5, 'gini = 0.134\\nsamples = 264\\nvalue = [19, 245]'),\n",
       " Text(406.875, 75.5, 'gini = 0.436\\nsamples = 927\\nvalue = [298, 629]'),\n",
       " Text(697.5, 377.5, 'X[5] <= 10.5\\ngini = 0.392\\nsamples = 494\\nvalue = [362, 132]'),\n",
       " Text(581.25, 226.5, 'X[2] <= 1.5\\ngini = 0.162\\nsamples = 191\\nvalue = [174, 17]'),\n",
       " Text(523.125, 75.5, 'gini = 0.083\\nsamples = 162\\nvalue = [155, 7]'),\n",
       " Text(639.375, 75.5, 'gini = 0.452\\nsamples = 29\\nvalue = [19, 10]'),\n",
       " Text(813.75, 226.5, 'X[6] <= 110.5\\ngini = 0.471\\nsamples = 303\\nvalue = [188, 115]'),\n",
       " Text(755.625, 75.5, 'gini = 0.5\\nsamples = 191\\nvalue = [96, 95]'),\n",
       " Text(871.875, 75.5, 'gini = 0.293\\nsamples = 112\\nvalue = [92, 20]')]"
      ]
     },
     "execution_count": 316,
     "metadata": {},
     "output_type": "execute_result"
    },
    {
     "data": {
      "image/png": "[encoded data removed]",
      "text/plain": [
       "<Figure size 1200x800 with 1 Axes>"
      ]
     },
     "metadata": {
      "needs_background": "light"
     },
     "output_type": "display_data"
    }
   ],
   "source": [
    "#Overview of generated Decision Tree\n",
    "from matplotlib import pyplot as plt\n",
    "fig, axes = plt.subplots(nrows = 1,ncols = 1,figsize = (3,2), dpi=400)\n",
    "tree.plot_tree(clf, filled=True)"
   ]
  },
  {
   "cell_type": "code",
   "execution_count": null,
   "metadata": {},
   "outputs": [],
   "source": []
  },
  {
   "cell_type": "code",
   "execution_count": null,
   "metadata": {},
   "outputs": [],
   "source": []
  }
 ],
 "metadata": {
  "kernelspec": {
   "display_name": "Python 3",
   "language": "python",
   "name": "python3"
  },
  "language_info": {
   "codemirror_mode": {
    "name": "ipython",
    "version": 3
   },
   "file_extension": ".py",
   "mimetype": "text/x-python",
   "name": "python",
   "nbconvert_exporter": "python",
   "pygments_lexer": "ipython3",
   "version": "3.8.3"
  }
 },
 "nbformat": 4,
 "nbformat_minor": 4
}
